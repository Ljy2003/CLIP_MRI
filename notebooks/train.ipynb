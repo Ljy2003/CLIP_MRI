{
 "cells": [
  {
   "cell_type": "code",
   "execution_count": 1,
   "metadata": {},
   "outputs": [],
   "source": [
    "import torch\n",
    "import torch.nn as nn\n",
    "\n",
    "x=nn.Parameter(torch.randn(10,10))\n",
    "y=nn.Parameter(torch.randn(10,10))\n",
    "\n",
    "torch.save([x,y],'111.pt')"
   ]
  },
  {
   "cell_type": "code",
   "execution_count": 3,
   "metadata": {},
   "outputs": [],
   "source": [
    "x,y=torch.load('111.pt')"
   ]
  },
  {
   "cell_type": "markdown",
   "metadata": {},
   "source": [
    "python train.py --visual_pretrained_path=./model/pretrain_2/model.pt --data_dir=D:/work2/LLM_medicine/data/data_after_segment/image/ --txt_path=./data/label.txt --test_txt=./data/test.txt --train_subset_txt=./data/label.txt --lr=0.0001 --batch_size=16 "
   ]
  },
  {
   "cell_type": "markdown",
   "metadata": {},
   "source": [
    "python train.py  --data_dir=D:/work2/LLM_medicine/data/openi/images/ --txt_path=D:/work2/LLM_medicine/data/openi/train.txt --test_txt=D:/work2/LLM_medicine/data/openi/test.txt --train_subset_txt=D:/work2/LLM_medicine/data/openi/train_subset.txt --lr=0.0005 --batch_size=16 --epochs=10 -initialize"
   ]
  }
 ],
 "metadata": {
  "kernelspec": {
   "display_name": "CLIP",
   "language": "python",
   "name": "python3"
  },
  "language_info": {
   "codemirror_mode": {
    "name": "ipython",
    "version": 3
   },
   "file_extension": ".py",
   "mimetype": "text/x-python",
   "name": "python",
   "nbconvert_exporter": "python",
   "pygments_lexer": "ipython3",
   "version": "3.9.18"
  }
 },
 "nbformat": 4,
 "nbformat_minor": 2
}
